{
  "cells": [
    {
      "cell_type": "code",
      "execution_count": null,
      "metadata": {
        "id": "B_yfPHFvMv_0"
      },
      "outputs": [],
      "source": [
        "# Sentiment Analysis Project\n",
        "import pandas as pd\n",
        "\n"
      ]
    },
    {
      "cell_type": "code",
      "execution_count": null,
      "metadata": {
        "id": "JnqD8tBWMv_2"
      },
      "outputs": [],
      "source": [
        "train_data = \"/Users/mac/SENTIMENT ANALYSIS PROJECT/Dataset/e commerce reviews train.csv\""
      ]
    },
    {
      "cell_type": "code",
      "execution_count": null,
      "metadata": {
        "id": "aBjtiCQjMv_2"
      },
      "outputs": [],
      "source": [
        "test_data = \"/Users/mac/SENTIMENT ANALYSIS PROJECT/Dataset/e commerce reviews test.csv\""
      ]
    },
    {
      "cell_type": "code",
      "execution_count": null,
      "metadata": {
        "id": "uQeaaxgkMv_3"
      },
      "outputs": [],
      "source": [
        "train_df = pd.read_csv(train_data)\n"
      ]
    },
    {
      "cell_type": "code",
      "execution_count": null,
      "metadata": {
        "id": "X4GD3ErpMv_3"
      },
      "outputs": [],
      "source": [
        "test_df = pd.read_csv(test_data)"
      ]
    },
    {
      "cell_type": "code",
      "execution_count": null,
      "metadata": {
        "id": "Q_Jex0pwMv_3"
      },
      "outputs": [],
      "source": [
        "test_df"
      ]
    },
    {
      "cell_type": "code",
      "execution_count": null,
      "metadata": {
        "id": "h6mJ3Qr-Mv_3"
      },
      "outputs": [],
      "source": [
        "train_df"
      ]
    },
    {
      "cell_type": "code",
      "execution_count": null,
      "metadata": {
        "id": "JTl1-0IKMv_4",
        "outputId": "21559613-83a7-4c06-e0f6-a85474cf8808"
      },
      "outputs": [
        {
          "data": {
            "text/plain": [
              "array(['__label__2', '__label__1'], dtype=object)"
            ]
          },
          "execution_count": 8,
          "metadata": {},
          "output_type": "execute_result"
        }
      ],
      "source": [
        "train_df['labels'].unique()"
      ]
    },
    {
      "cell_type": "code",
      "execution_count": null,
      "metadata": {
        "id": "_WRifu_1Mv_5"
      },
      "outputs": [],
      "source": [
        "#mapping values\n",
        "mapped_values = {\n",
        "    \"__label__2\": \"Positive\",\n",
        "    \"__label__1\": \"Negative\"\n",
        "\n",
        "}\n"
      ]
    },
    {
      "cell_type": "code",
      "execution_count": null,
      "metadata": {
        "id": "IPmyMibeMv_5"
      },
      "outputs": [],
      "source": [
        "train_df['labels'] = train_df['labels'].map(mapped_values)"
      ]
    },
    {
      "cell_type": "code",
      "execution_count": null,
      "metadata": {
        "id": "hpq7lojjMv_5"
      },
      "outputs": [],
      "source": [
        "test_df['labels'] = test_df['labels'].map(mapped_values)"
      ]
    },
    {
      "cell_type": "code",
      "execution_count": null,
      "metadata": {
        "id": "JIOLIRegMv_6",
        "outputId": "d933730a-501b-4b49-c098-bab78c79786c"
      },
      "outputs": [
        {
          "data": {
            "text/html": [
              "<div>\n",
              "<style scoped>\n",
              "    .dataframe tbody tr th:only-of-type {\n",
              "        vertical-align: middle;\n",
              "    }\n",
              "\n",
              "    .dataframe tbody tr th {\n",
              "        vertical-align: top;\n",
              "    }\n",
              "\n",
              "    .dataframe thead th {\n",
              "        text-align: right;\n",
              "    }\n",
              "</style>\n",
              "<table border=\"1\" class=\"dataframe\">\n",
              "  <thead>\n",
              "    <tr style=\"text-align: right;\">\n",
              "      <th></th>\n",
              "      <th>labels</th>\n",
              "      <th>text</th>\n",
              "    </tr>\n",
              "  </thead>\n",
              "  <tbody>\n",
              "    <tr>\n",
              "      <th>0</th>\n",
              "      <td>Positive</td>\n",
              "      <td>Stuning even for the non-gamer: This sound tra...</td>\n",
              "    </tr>\n",
              "    <tr>\n",
              "      <th>1</th>\n",
              "      <td>Positive</td>\n",
              "      <td>The best soundtrack ever to anything.: I'm rea...</td>\n",
              "    </tr>\n",
              "    <tr>\n",
              "      <th>2</th>\n",
              "      <td>Positive</td>\n",
              "      <td>Amazing!: This soundtrack is my favorite music...</td>\n",
              "    </tr>\n",
              "    <tr>\n",
              "      <th>3</th>\n",
              "      <td>Positive</td>\n",
              "      <td>Excellent Soundtrack: I truly like this soundt...</td>\n",
              "    </tr>\n",
              "    <tr>\n",
              "      <th>4</th>\n",
              "      <td>Positive</td>\n",
              "      <td>Remember, Pull Your Jaw Off The Floor After He...</td>\n",
              "    </tr>\n",
              "    <tr>\n",
              "      <th>...</th>\n",
              "      <td>...</td>\n",
              "      <td>...</td>\n",
              "    </tr>\n",
              "    <tr>\n",
              "      <th>3600005</th>\n",
              "      <td>Negative</td>\n",
              "      <td>Don't do it!!: The high chair looks great when...</td>\n",
              "    </tr>\n",
              "    <tr>\n",
              "      <th>3600006</th>\n",
              "      <td>Negative</td>\n",
              "      <td>Looks nice, low functionality: I have used thi...</td>\n",
              "    </tr>\n",
              "    <tr>\n",
              "      <th>3600007</th>\n",
              "      <td>Negative</td>\n",
              "      <td>compact, but hard to clean: We have a small ho...</td>\n",
              "    </tr>\n",
              "    <tr>\n",
              "      <th>3600008</th>\n",
              "      <td>Negative</td>\n",
              "      <td>what is it saying?: not sure what this book is...</td>\n",
              "    </tr>\n",
              "    <tr>\n",
              "      <th>3600009</th>\n",
              "      <td>Positive</td>\n",
              "      <td>Makes My Blood Run Red-White-And-Blue: I agree...</td>\n",
              "    </tr>\n",
              "  </tbody>\n",
              "</table>\n",
              "<p>3600010 rows × 2 columns</p>\n",
              "</div>"
            ],
            "text/plain": [
              "           labels                                               text\n",
              "0        Positive  Stuning even for the non-gamer: This sound tra...\n",
              "1        Positive  The best soundtrack ever to anything.: I'm rea...\n",
              "2        Positive  Amazing!: This soundtrack is my favorite music...\n",
              "3        Positive  Excellent Soundtrack: I truly like this soundt...\n",
              "4        Positive  Remember, Pull Your Jaw Off The Floor After He...\n",
              "...           ...                                                ...\n",
              "3600005  Negative  Don't do it!!: The high chair looks great when...\n",
              "3600006  Negative  Looks nice, low functionality: I have used thi...\n",
              "3600007  Negative  compact, but hard to clean: We have a small ho...\n",
              "3600008  Negative  what is it saying?: not sure what this book is...\n",
              "3600009  Positive  Makes My Blood Run Red-White-And-Blue: I agree...\n",
              "\n",
              "[3600010 rows x 2 columns]"
            ]
          },
          "execution_count": 12,
          "metadata": {},
          "output_type": "execute_result"
        }
      ],
      "source": [
        "train_df"
      ]
    },
    {
      "cell_type": "code",
      "execution_count": null,
      "metadata": {
        "id": "wuCze65GMv_6",
        "outputId": "4cdb5577-028d-4fdd-b7dd-30a84768a1f7"
      },
      "outputs": [
        {
          "data": {
            "text/html": [
              "<div>\n",
              "<style scoped>\n",
              "    .dataframe tbody tr th:only-of-type {\n",
              "        vertical-align: middle;\n",
              "    }\n",
              "\n",
              "    .dataframe tbody tr th {\n",
              "        vertical-align: top;\n",
              "    }\n",
              "\n",
              "    .dataframe thead th {\n",
              "        text-align: right;\n",
              "    }\n",
              "</style>\n",
              "<table border=\"1\" class=\"dataframe\">\n",
              "  <thead>\n",
              "    <tr style=\"text-align: right;\">\n",
              "      <th></th>\n",
              "      <th>labels</th>\n",
              "      <th>text</th>\n",
              "    </tr>\n",
              "  </thead>\n",
              "  <tbody>\n",
              "    <tr>\n",
              "      <th>0</th>\n",
              "      <td>Positive</td>\n",
              "      <td>Great CD: My lovely Pat has one of the GREAT v...</td>\n",
              "    </tr>\n",
              "    <tr>\n",
              "      <th>1</th>\n",
              "      <td>Positive</td>\n",
              "      <td>One of the best game music soundtracks - for a...</td>\n",
              "    </tr>\n",
              "    <tr>\n",
              "      <th>2</th>\n",
              "      <td>Negative</td>\n",
              "      <td>Batteries died within a year ...: I bought thi...</td>\n",
              "    </tr>\n",
              "    <tr>\n",
              "      <th>3</th>\n",
              "      <td>Positive</td>\n",
              "      <td>works fine, but Maha Energy is better: Check o...</td>\n",
              "    </tr>\n",
              "    <tr>\n",
              "      <th>4</th>\n",
              "      <td>Positive</td>\n",
              "      <td>Great for the non-audiophile: Reviewed quite a...</td>\n",
              "    </tr>\n",
              "    <tr>\n",
              "      <th>...</th>\n",
              "      <td>...</td>\n",
              "      <td>...</td>\n",
              "    </tr>\n",
              "    <tr>\n",
              "      <th>399995</th>\n",
              "      <td>Negative</td>\n",
              "      <td>Unbelievable- In a Bad Way: We bought this Tho...</td>\n",
              "    </tr>\n",
              "    <tr>\n",
              "      <th>399996</th>\n",
              "      <td>Negative</td>\n",
              "      <td>Almost Great, Until it Broke...: My son reciev...</td>\n",
              "    </tr>\n",
              "    <tr>\n",
              "      <th>399997</th>\n",
              "      <td>Negative</td>\n",
              "      <td>Disappointed !!!: I bought this toy for my son...</td>\n",
              "    </tr>\n",
              "    <tr>\n",
              "      <th>399998</th>\n",
              "      <td>Positive</td>\n",
              "      <td>Classic Jessica Mitford: This is a compilation...</td>\n",
              "    </tr>\n",
              "    <tr>\n",
              "      <th>399999</th>\n",
              "      <td>Negative</td>\n",
              "      <td>Comedy Scene, and Not Heard: This DVD will be ...</td>\n",
              "    </tr>\n",
              "  </tbody>\n",
              "</table>\n",
              "<p>400000 rows × 2 columns</p>\n",
              "</div>"
            ],
            "text/plain": [
              "          labels                                               text\n",
              "0       Positive  Great CD: My lovely Pat has one of the GREAT v...\n",
              "1       Positive  One of the best game music soundtracks - for a...\n",
              "2       Negative  Batteries died within a year ...: I bought thi...\n",
              "3       Positive  works fine, but Maha Energy is better: Check o...\n",
              "4       Positive  Great for the non-audiophile: Reviewed quite a...\n",
              "...          ...                                                ...\n",
              "399995  Negative  Unbelievable- In a Bad Way: We bought this Tho...\n",
              "399996  Negative  Almost Great, Until it Broke...: My son reciev...\n",
              "399997  Negative  Disappointed !!!: I bought this toy for my son...\n",
              "399998  Positive  Classic Jessica Mitford: This is a compilation...\n",
              "399999  Negative  Comedy Scene, and Not Heard: This DVD will be ...\n",
              "\n",
              "[400000 rows x 2 columns]"
            ]
          },
          "execution_count": 13,
          "metadata": {},
          "output_type": "execute_result"
        }
      ],
      "source": [
        "test_df"
      ]
    },
    {
      "cell_type": "markdown",
      "metadata": {
        "id": "CnKEnk0IMv_6"
      },
      "source": [
        "TEXT PREPROCESSING\n"
      ]
    },
    {
      "cell_type": "code",
      "execution_count": null,
      "metadata": {
        "id": "eyW7wd4gMv_7"
      },
      "outputs": [],
      "source": [
        "def remove_stopwords(text):\n",
        "    \"\"\"\n",
        "    Remove common English stopwords.\n",
        "    \"\"\"\n",
        "    tokens = word_tokenize(text)\n",
        "    stop_words = set(stopwords.words('english'))\n",
        "    filtered_tokens = [token for token in tokens if token not in stop_words]\n",
        "    return ' '.join(filtered_tokens)\n",
        "\n",
        "\n"
      ]
    },
    {
      "cell_type": "code",
      "execution_count": null,
      "metadata": {
        "id": "XVktA6nzMv_7",
        "outputId": "e2c13eef-53e8-4f69-db0d-ce72c05758d5"
      },
      "outputs": [
        {
          "data": {
            "text/plain": [
              "0    Stuning even non-gamer : This sound track beau...\n",
              "1    The best soundtrack ever anything . : I 'm rea...\n",
              "2    Amazing ! : This soundtrack favorite music tim...\n",
              "3    Excellent Soundtrack : I truly like soundtrack...\n",
              "4    Remember , Pull Your Jaw Off The Floor After H...\n",
              "5    absolute masterpiece : I quite sure actually t...\n",
              "6    Buyer beware : This self-published book , want...\n",
              "7    Glorious story : I loved Whisper wicked saints...\n",
              "8    A FIVE STAR BOOK : I finished reading Whisper ...\n",
              "9    Whispers Wicked Saints : This easy read book m...\n",
              "Name: text, dtype: object"
            ]
          },
          "execution_count": 18,
          "metadata": {},
          "output_type": "execute_result"
        }
      ],
      "source": [
        "train_df['text'].head(10).apply(remove_stopwords)"
      ]
    },
    {
      "cell_type": "code",
      "execution_count": null,
      "metadata": {
        "id": "AvN73oHmMv_8",
        "outputId": "2005796d-47ff-4e82-c696-c3c7c472395c"
      },
      "outputs": [
        {
          "ename": "KeyboardInterrupt",
          "evalue": "",
          "output_type": "error",
          "traceback": [
            "\u001b[0;31m---------------------------------------------------------------------------\u001b[0m",
            "\u001b[0;31mKeyboardInterrupt\u001b[0m                         Traceback (most recent call last)",
            "Cell \u001b[0;32mIn[19], line 1\u001b[0m\n\u001b[0;32m----> 1\u001b[0m train_df[\u001b[39m'\u001b[39m\u001b[39mStopwords\u001b[39m\u001b[39m'\u001b[39m] \u001b[39m=\u001b[39m train_df[\u001b[39m'\u001b[39m\u001b[39mtext\u001b[39m\u001b[39m'\u001b[39m]\u001b[39m.\u001b[39mapply(remove_stopwords)\n",
            "File \u001b[0;32m/opt/anaconda3/lib/python3.12/site-packages/pandas/core/series.py:4924\u001b[0m, in \u001b[0;36mSeries.apply\u001b[0;34m(self, func, convert_dtype, args, by_row, **kwargs)\u001b[0m\n\u001b[1;32m   4789\u001b[0m \u001b[39mdef\u001b[39;00m \u001b[39mapply\u001b[39m(\n\u001b[1;32m   4790\u001b[0m     \u001b[39mself\u001b[39m,\n\u001b[1;32m   4791\u001b[0m     func: AggFuncType,\n\u001b[0;32m   (...)\u001b[0m\n\u001b[1;32m   4796\u001b[0m     \u001b[39m*\u001b[39m\u001b[39m*\u001b[39mkwargs,\n\u001b[1;32m   4797\u001b[0m ) \u001b[39m-\u001b[39m\u001b[39m>\u001b[39m DataFrame \u001b[39m|\u001b[39m Series:\n\u001b[1;32m   4798\u001b[0m \u001b[39m    \u001b[39m\u001b[39m\"\"\"\u001b[39;00m\n\u001b[1;32m   4799\u001b[0m \u001b[39m    Invoke function on values of Series.\u001b[39;00m\n\u001b[1;32m   4800\u001b[0m \n\u001b[0;32m   (...)\u001b[0m\n\u001b[1;32m   4915\u001b[0m \u001b[39m    dtype: float64\u001b[39;00m\n\u001b[1;32m   4916\u001b[0m \u001b[39m    \"\"\"\u001b[39;00m\n\u001b[1;32m   4917\u001b[0m     \u001b[39mreturn\u001b[39;00m SeriesApply(\n\u001b[1;32m   4918\u001b[0m         \u001b[39mself\u001b[39m,\n\u001b[1;32m   4919\u001b[0m         func,\n\u001b[1;32m   4920\u001b[0m         convert_dtype\u001b[39m=\u001b[39mconvert_dtype,\n\u001b[1;32m   4921\u001b[0m         by_row\u001b[39m=\u001b[39mby_row,\n\u001b[1;32m   4922\u001b[0m         args\u001b[39m=\u001b[39margs,\n\u001b[1;32m   4923\u001b[0m         kwargs\u001b[39m=\u001b[39mkwargs,\n\u001b[0;32m-> 4924\u001b[0m     )\u001b[39m.\u001b[39mapply()\n",
            "File \u001b[0;32m/opt/anaconda3/lib/python3.12/site-packages/pandas/core/apply.py:1427\u001b[0m, in \u001b[0;36mSeriesApply.apply\u001b[0;34m(self)\u001b[0m\n\u001b[1;32m   1424\u001b[0m     \u001b[39mreturn\u001b[39;00m \u001b[39mself\u001b[39m\u001b[39m.\u001b[39mapply_compat()\n\u001b[1;32m   1426\u001b[0m \u001b[39m# self.func is Callable\u001b[39;00m\n\u001b[0;32m-> 1427\u001b[0m \u001b[39mreturn\u001b[39;00m \u001b[39mself\u001b[39m\u001b[39m.\u001b[39mapply_standard()\n",
            "File \u001b[0;32m/opt/anaconda3/lib/python3.12/site-packages/pandas/core/apply.py:1507\u001b[0m, in \u001b[0;36mSeriesApply.apply_standard\u001b[0;34m(self)\u001b[0m\n\u001b[1;32m   1501\u001b[0m \u001b[39m# row-wise access\u001b[39;00m\n\u001b[1;32m   1502\u001b[0m \u001b[39m# apply doesn't have a `na_action` keyword and for backward compat reasons\u001b[39;00m\n\u001b[1;32m   1503\u001b[0m \u001b[39m# we need to give `na_action=\"ignore\"` for categorical data.\u001b[39;00m\n\u001b[1;32m   1504\u001b[0m \u001b[39m# TODO: remove the `na_action=\"ignore\"` when that default has been changed in\u001b[39;00m\n\u001b[1;32m   1505\u001b[0m \u001b[39m#  Categorical (GH51645).\u001b[39;00m\n\u001b[1;32m   1506\u001b[0m action \u001b[39m=\u001b[39m \u001b[39m\"\u001b[39m\u001b[39mignore\u001b[39m\u001b[39m\"\u001b[39m \u001b[39mif\u001b[39;00m \u001b[39misinstance\u001b[39m(obj\u001b[39m.\u001b[39mdtype, CategoricalDtype) \u001b[39melse\u001b[39;00m \u001b[39mNone\u001b[39;00m\n\u001b[0;32m-> 1507\u001b[0m mapped \u001b[39m=\u001b[39m obj\u001b[39m.\u001b[39m_map_values(\n\u001b[1;32m   1508\u001b[0m     mapper\u001b[39m=\u001b[39mcurried, na_action\u001b[39m=\u001b[39maction, convert\u001b[39m=\u001b[39m\u001b[39mself\u001b[39m\u001b[39m.\u001b[39mconvert_dtype\n\u001b[1;32m   1509\u001b[0m )\n\u001b[1;32m   1511\u001b[0m \u001b[39mif\u001b[39;00m \u001b[39mlen\u001b[39m(mapped) \u001b[39mand\u001b[39;00m \u001b[39misinstance\u001b[39m(mapped[\u001b[39m0\u001b[39m], ABCSeries):\n\u001b[1;32m   1512\u001b[0m     \u001b[39m# GH#43986 Need to do list(mapped) in order to get treated as nested\u001b[39;00m\n\u001b[1;32m   1513\u001b[0m     \u001b[39m#  See also GH#25959 regarding EA support\u001b[39;00m\n\u001b[1;32m   1514\u001b[0m     \u001b[39mreturn\u001b[39;00m obj\u001b[39m.\u001b[39m_constructor_expanddim(\u001b[39mlist\u001b[39m(mapped), index\u001b[39m=\u001b[39mobj\u001b[39m.\u001b[39mindex)\n",
            "File \u001b[0;32m/opt/anaconda3/lib/python3.12/site-packages/pandas/core/base.py:921\u001b[0m, in \u001b[0;36mIndexOpsMixin._map_values\u001b[0;34m(self, mapper, na_action, convert)\u001b[0m\n\u001b[1;32m    918\u001b[0m \u001b[39mif\u001b[39;00m \u001b[39misinstance\u001b[39m(arr, ExtensionArray):\n\u001b[1;32m    919\u001b[0m     \u001b[39mreturn\u001b[39;00m arr\u001b[39m.\u001b[39mmap(mapper, na_action\u001b[39m=\u001b[39mna_action)\n\u001b[0;32m--> 921\u001b[0m \u001b[39mreturn\u001b[39;00m algorithms\u001b[39m.\u001b[39mmap_array(arr, mapper, na_action\u001b[39m=\u001b[39mna_action, convert\u001b[39m=\u001b[39mconvert)\n",
            "File \u001b[0;32m/opt/anaconda3/lib/python3.12/site-packages/pandas/core/algorithms.py:1743\u001b[0m, in \u001b[0;36mmap_array\u001b[0;34m(arr, mapper, na_action, convert)\u001b[0m\n\u001b[1;32m   1741\u001b[0m values \u001b[39m=\u001b[39m arr\u001b[39m.\u001b[39mastype(\u001b[39mobject\u001b[39m, copy\u001b[39m=\u001b[39m\u001b[39mFalse\u001b[39;00m)\n\u001b[1;32m   1742\u001b[0m \u001b[39mif\u001b[39;00m na_action \u001b[39mis\u001b[39;00m \u001b[39mNone\u001b[39;00m:\n\u001b[0;32m-> 1743\u001b[0m     \u001b[39mreturn\u001b[39;00m lib\u001b[39m.\u001b[39mmap_infer(values, mapper, convert\u001b[39m=\u001b[39mconvert)\n\u001b[1;32m   1744\u001b[0m \u001b[39melse\u001b[39;00m:\n\u001b[1;32m   1745\u001b[0m     \u001b[39mreturn\u001b[39;00m lib\u001b[39m.\u001b[39mmap_infer_mask(\n\u001b[1;32m   1746\u001b[0m         values, mapper, mask\u001b[39m=\u001b[39misna(values)\u001b[39m.\u001b[39mview(np\u001b[39m.\u001b[39muint8), convert\u001b[39m=\u001b[39mconvert\n\u001b[1;32m   1747\u001b[0m     )\n",
            "File \u001b[0;32mlib.pyx:2972\u001b[0m, in \u001b[0;36mpandas._libs.lib.map_infer\u001b[0;34m()\u001b[0m\n",
            "Cell \u001b[0;32mIn[17], line 5\u001b[0m, in \u001b[0;36mremove_stopwords\u001b[0;34m(text)\u001b[0m\n\u001b[1;32m      1\u001b[0m \u001b[39mdef\u001b[39;00m \u001b[39mremove_stopwords\u001b[39m(text):\n\u001b[1;32m      2\u001b[0m \u001b[39m    \u001b[39m\u001b[39m\"\"\"\u001b[39;00m\n\u001b[1;32m      3\u001b[0m \u001b[39m    Remove common English stopwords.\u001b[39;00m\n\u001b[1;32m      4\u001b[0m \u001b[39m    \"\"\"\u001b[39;00m\n\u001b[0;32m----> 5\u001b[0m     tokens \u001b[39m=\u001b[39m word_tokenize(text)\n\u001b[1;32m      6\u001b[0m     stop_words \u001b[39m=\u001b[39m \u001b[39mset\u001b[39m(stopwords\u001b[39m.\u001b[39mwords(\u001b[39m'\u001b[39m\u001b[39menglish\u001b[39m\u001b[39m'\u001b[39m))\n\u001b[1;32m      7\u001b[0m     filtered_tokens \u001b[39m=\u001b[39m [token \u001b[39mfor\u001b[39;00m token \u001b[39min\u001b[39;00m tokens \u001b[39mif\u001b[39;00m token \u001b[39mnot\u001b[39;00m \u001b[39min\u001b[39;00m stop_words]\n",
            "File \u001b[0;32m/opt/anaconda3/lib/python3.12/site-packages/nltk/tokenize/__init__.py:131\u001b[0m, in \u001b[0;36mword_tokenize\u001b[0;34m(text, language, preserve_line)\u001b[0m\n\u001b[1;32m    115\u001b[0m \u001b[39m\u001b[39m\u001b[39m\"\"\"\u001b[39;00m\n\u001b[1;32m    116\u001b[0m \u001b[39mReturn a tokenized copy of *text*,\u001b[39;00m\n\u001b[1;32m    117\u001b[0m \u001b[39musing NLTK's recommended word tokenizer\u001b[39;00m\n\u001b[0;32m   (...)\u001b[0m\n\u001b[1;32m    127\u001b[0m \u001b[39m:type preserve_line: bool\u001b[39;00m\n\u001b[1;32m    128\u001b[0m \u001b[39m\"\"\"\u001b[39;00m\n\u001b[1;32m    129\u001b[0m sentences \u001b[39m=\u001b[39m [text] \u001b[39mif\u001b[39;00m preserve_line \u001b[39melse\u001b[39;00m sent_tokenize(text, language)\n\u001b[1;32m    130\u001b[0m \u001b[39mreturn\u001b[39;00m [\n\u001b[0;32m--> 131\u001b[0m     token \u001b[39mfor\u001b[39;00m sent \u001b[39min\u001b[39;00m sentences \u001b[39mfor\u001b[39;00m token \u001b[39min\u001b[39;00m _treebank_word_tokenizer\u001b[39m.\u001b[39mtokenize(sent)\n\u001b[1;32m    132\u001b[0m ]\n",
            "File \u001b[0;32m/opt/anaconda3/lib/python3.12/site-packages/nltk/tokenize/destructive.py:160\u001b[0m, in \u001b[0;36mNLTKWordTokenizer.tokenize\u001b[0;34m(self, text, convert_parentheses, return_str)\u001b[0m\n\u001b[1;32m    157\u001b[0m     text \u001b[39m=\u001b[39m regexp\u001b[39m.\u001b[39msub(substitution, text)\n\u001b[1;32m    159\u001b[0m \u001b[39mfor\u001b[39;00m regexp, substitution \u001b[39min\u001b[39;00m \u001b[39mself\u001b[39m\u001b[39m.\u001b[39mPUNCTUATION:\n\u001b[0;32m--> 160\u001b[0m     text \u001b[39m=\u001b[39m regexp\u001b[39m.\u001b[39msub(substitution, text)\n\u001b[1;32m    162\u001b[0m \u001b[39m# Handles parentheses.\u001b[39;00m\n\u001b[1;32m    163\u001b[0m regexp, substitution \u001b[39m=\u001b[39m \u001b[39mself\u001b[39m\u001b[39m.\u001b[39mPARENS_BRACKETS\n",
            "\u001b[0;31mKeyboardInterrupt\u001b[0m: "
          ]
        }
      ],
      "source": [
        "train_df['Stopwords'] = train_df['text'].apply(remove_stopwords)"
      ]
    },
    {
      "cell_type": "code",
      "execution_count": null,
      "metadata": {
        "id": "baxuHFvIMv_8"
      },
      "outputs": [],
      "source": [
        "test_df['Stopwords'] = test_df['text'].apply(remove_stopwords)"
      ]
    },
    {
      "cell_type": "code",
      "execution_count": null,
      "metadata": {
        "id": "HnktCtGTMv_8"
      },
      "outputs": [],
      "source": [
        "#Save new csv\n",
        "train_df.to_csv('train_dataset_updated',index = False)"
      ]
    },
    {
      "cell_type": "code",
      "execution_count": null,
      "metadata": {
        "id": "vvThVbAeMv_8"
      },
      "outputs": [],
      "source": [
        "train_df_updated = pd.read_csv('/Users/mac/SENTIMENT ANALYSIS PROJECT/train_dataset_updated')"
      ]
    },
    {
      "cell_type": "code",
      "execution_count": null,
      "metadata": {
        "id": "_FexIUMQMv_9"
      },
      "outputs": [],
      "source": [
        "train_df_updated"
      ]
    },
    {
      "cell_type": "code",
      "execution_count": null,
      "metadata": {
        "id": "482G855IMv_9",
        "outputId": "2e4f0512-338f-4fd7-cfc5-c167a817b860"
      },
      "outputs": [
        {
          "data": {
            "text/html": [
              "<div>\n",
              "<style scoped>\n",
              "    .dataframe tbody tr th:only-of-type {\n",
              "        vertical-align: middle;\n",
              "    }\n",
              "\n",
              "    .dataframe tbody tr th {\n",
              "        vertical-align: top;\n",
              "    }\n",
              "\n",
              "    .dataframe thead th {\n",
              "        text-align: right;\n",
              "    }\n",
              "</style>\n",
              "<table border=\"1\" class=\"dataframe\">\n",
              "  <thead>\n",
              "    <tr style=\"text-align: right;\">\n",
              "      <th></th>\n",
              "      <th>labels</th>\n",
              "      <th>text</th>\n",
              "      <th>Stopwords</th>\n",
              "    </tr>\n",
              "  </thead>\n",
              "  <tbody>\n",
              "    <tr>\n",
              "      <th>0</th>\n",
              "      <td>Positive</td>\n",
              "      <td>Great CD: My lovely Pat has one of the GREAT v...</td>\n",
              "      <td>Great CD : My lovely Pat one GREAT voices gene...</td>\n",
              "    </tr>\n",
              "    <tr>\n",
              "      <th>1</th>\n",
              "      <td>Positive</td>\n",
              "      <td>One of the best game music soundtracks - for a...</td>\n",
              "      <td>One best game music soundtracks - game I n't r...</td>\n",
              "    </tr>\n",
              "    <tr>\n",
              "      <th>2</th>\n",
              "      <td>Negative</td>\n",
              "      <td>Batteries died within a year ...: I bought thi...</td>\n",
              "      <td>Batteries died within year ... : I bought char...</td>\n",
              "    </tr>\n",
              "    <tr>\n",
              "      <th>3</th>\n",
              "      <td>Positive</td>\n",
              "      <td>works fine, but Maha Energy is better: Check o...</td>\n",
              "      <td>works fine , Maha Energy better : Check Maha E...</td>\n",
              "    </tr>\n",
              "    <tr>\n",
              "      <th>4</th>\n",
              "      <td>Positive</td>\n",
              "      <td>Great for the non-audiophile: Reviewed quite a...</td>\n",
              "      <td>Great non-audiophile : Reviewed quite bit comb...</td>\n",
              "    </tr>\n",
              "    <tr>\n",
              "      <th>...</th>\n",
              "      <td>...</td>\n",
              "      <td>...</td>\n",
              "      <td>...</td>\n",
              "    </tr>\n",
              "    <tr>\n",
              "      <th>399995</th>\n",
              "      <td>Negative</td>\n",
              "      <td>Unbelievable- In a Bad Way: We bought this Tho...</td>\n",
              "      <td>Unbelievable- In Bad Way : We bought Thomas so...</td>\n",
              "    </tr>\n",
              "    <tr>\n",
              "      <th>399996</th>\n",
              "      <td>Negative</td>\n",
              "      <td>Almost Great, Until it Broke...: My son reciev...</td>\n",
              "      <td>Almost Great , Until Broke ... : My son reciev...</td>\n",
              "    </tr>\n",
              "    <tr>\n",
              "      <th>399997</th>\n",
              "      <td>Negative</td>\n",
              "      <td>Disappointed !!!: I bought this toy for my son...</td>\n",
              "      <td>Disappointed ! ! ! : I bought toy son loves ``...</td>\n",
              "    </tr>\n",
              "    <tr>\n",
              "      <th>399998</th>\n",
              "      <td>Positive</td>\n",
              "      <td>Classic Jessica Mitford: This is a compilation...</td>\n",
              "      <td>Classic Jessica Mitford : This compilation wid...</td>\n",
              "    </tr>\n",
              "    <tr>\n",
              "      <th>399999</th>\n",
              "      <td>Negative</td>\n",
              "      <td>Comedy Scene, and Not Heard: This DVD will be ...</td>\n",
              "      <td>Comedy Scene , Not Heard : This DVD disappoint...</td>\n",
              "    </tr>\n",
              "  </tbody>\n",
              "</table>\n",
              "<p>400000 rows × 3 columns</p>\n",
              "</div>"
            ],
            "text/plain": [
              "          labels                                               text  \\\n",
              "0       Positive  Great CD: My lovely Pat has one of the GREAT v...   \n",
              "1       Positive  One of the best game music soundtracks - for a...   \n",
              "2       Negative  Batteries died within a year ...: I bought thi...   \n",
              "3       Positive  works fine, but Maha Energy is better: Check o...   \n",
              "4       Positive  Great for the non-audiophile: Reviewed quite a...   \n",
              "...          ...                                                ...   \n",
              "399995  Negative  Unbelievable- In a Bad Way: We bought this Tho...   \n",
              "399996  Negative  Almost Great, Until it Broke...: My son reciev...   \n",
              "399997  Negative  Disappointed !!!: I bought this toy for my son...   \n",
              "399998  Positive  Classic Jessica Mitford: This is a compilation...   \n",
              "399999  Negative  Comedy Scene, and Not Heard: This DVD will be ...   \n",
              "\n",
              "                                                Stopwords  \n",
              "0       Great CD : My lovely Pat one GREAT voices gene...  \n",
              "1       One best game music soundtracks - game I n't r...  \n",
              "2       Batteries died within year ... : I bought char...  \n",
              "3       works fine , Maha Energy better : Check Maha E...  \n",
              "4       Great non-audiophile : Reviewed quite bit comb...  \n",
              "...                                                   ...  \n",
              "399995  Unbelievable- In Bad Way : We bought Thomas so...  \n",
              "399996  Almost Great , Until Broke ... : My son reciev...  \n",
              "399997  Disappointed ! ! ! : I bought toy son loves ``...  \n",
              "399998  Classic Jessica Mitford : This compilation wid...  \n",
              "399999  Comedy Scene , Not Heard : This DVD disappoint...  \n",
              "\n",
              "[400000 rows x 3 columns]"
            ]
          },
          "execution_count": 21,
          "metadata": {},
          "output_type": "execute_result"
        }
      ],
      "source": [
        "test_df"
      ]
    },
    {
      "cell_type": "code",
      "execution_count": null,
      "metadata": {
        "id": "wRR7nwl5Mv_9",
        "outputId": "95984679-dc58-473c-a654-96a8d2540ba1"
      },
      "outputs": [
        {
          "name": "stdout",
          "output_type": "stream",
          "text": [
            "TF-IDF vectorizer fitted on the first chunk.\n",
            "Starting incremental training on chunks...\n",
            "Incremental training complete.\n",
            "=== SGDClassifier (Logistic Regression via SGD) ===\n",
            "Accuracy: 0.878205\n",
            "              precision    recall  f1-score   support\n",
            "\n",
            "    Negative       0.88      0.88      0.88    200000\n",
            "    Positive       0.88      0.88      0.88    200000\n",
            "\n",
            "    accuracy                           0.88    400000\n",
            "   macro avg       0.88      0.88      0.88    400000\n",
            "weighted avg       0.88      0.88      0.88    400000\n",
            "\n",
            "=== PassiveAggressiveClassifier ===\n",
            "Accuracy: 0.8783275\n",
            "              precision    recall  f1-score   support\n",
            "\n",
            "    Negative       0.88      0.88      0.88    200000\n",
            "    Positive       0.88      0.88      0.88    200000\n",
            "\n",
            "    accuracy                           0.88    400000\n",
            "   macro avg       0.88      0.88      0.88    400000\n",
            "weighted avg       0.88      0.88      0.88    400000\n",
            "\n",
            "=== MultinomialNB ===\n",
            "Accuracy: 0.8509575\n",
            "              precision    recall  f1-score   support\n",
            "\n",
            "    Negative       0.85      0.85      0.85    200000\n",
            "    Positive       0.85      0.85      0.85    200000\n",
            "\n",
            "    accuracy                           0.85    400000\n",
            "   macro avg       0.85      0.85      0.85    400000\n",
            "weighted avg       0.85      0.85      0.85    400000\n",
            "\n"
          ]
        }
      ],
      "source": [
        "import pandas as pd\n",
        "from sklearn.feature_extraction.text import TfidfVectorizer\n",
        "from sklearn.linear_model import SGDClassifier, PassiveAggressiveClassifier\n",
        "from sklearn.naive_bayes import MultinomialNB\n",
        "from sklearn.metrics import classification_report, accuracy_score\n",
        "\n",
        "# Set the path to your training CSV file\n",
        "csv_file = '/Users/mac/SENTIMENT ANALYSIS PROJECT/train_dataset_updated'\n",
        "\n",
        "# Define a chunksize that fits your memory capacity\n",
        "chunksize = 10000\n",
        "\n",
        "\n",
        "# 1. Fit the TF-IDF Vectorizer on a Sample Chunk\n",
        "\n",
        "# Read the first chunk to fit the TF-IDF vectorizer\n",
        "first_chunk = pd.read_csv(csv_file, chunksize=chunksize).__next__()\n",
        "tfidf_vectorizer = TfidfVectorizer(max_features=50000, min_df=5, max_df=0.8)\n",
        "tfidf_vectorizer.fit(first_chunk['Stopwords'])\n",
        "print(\"TF-IDF vectorizer fitted on the first chunk.\")\n",
        "\n",
        "\n",
        "# 2. Initialize Incremental Learning Models\n",
        "\n",
        "# Define the list of possible classes (ensure they exactly match the label values)\n",
        "classes = ['Negative', 'Positive']\n",
        "\n",
        "# Initialize classifiers that support partial_fit\n",
        "sgd_clf = SGDClassifier(loss='log_loss')  # Logistic Regression variant via SGD\n",
        "pa_clf = PassiveAggressiveClassifier()\n",
        "nb_clf = MultinomialNB()\n",
        "\n",
        "# 3. Process the Training Data in Chunks\n",
        "\n",
        "print(\"Starting incremental training on chunks...\")\n",
        "for chunk in pd.read_csv(csv_file, chunksize=chunksize):\n",
        "    # Transform the text data using the fitted TF-IDF vectorizer\n",
        "    X_chunk = tfidf_vectorizer.transform(chunk['Stopwords'])\n",
        "    y_chunk = chunk['labels']\n",
        "\n",
        "    # Update each model incrementally\n",
        "    sgd_clf.partial_fit(X_chunk, y_chunk, classes=classes)\n",
        "    pa_clf.partial_fit(X_chunk, y_chunk, classes=classes)\n",
        "    nb_clf.partial_fit(X_chunk, y_chunk, classes=classes)\n",
        "\n",
        "print(\"Incremental training complete.\")\n",
        "\n",
        "#\n",
        "X_test = tfidf_vectorizer.transform(test_df['Stopwords'])\n",
        "y_test = test_df['labels']\n",
        "\n",
        "# Get predictions from each model\n",
        "sgd_preds = sgd_clf.predict(X_test)\n",
        "pa_preds = pa_clf.predict(X_test)\n",
        "nb_preds = nb_clf.predict(X_test)\n",
        "\n",
        "# Print the classification reports\n",
        "from sklearn.metrics import classification_report, accuracy_score\n",
        "\n",
        "print(\"=== SGDClassifier (Logistic Regression via SGD) ===\")\n",
        "print(\"Accuracy:\", accuracy_score(y_test, sgd_preds))\n",
        "print(classification_report(y_test, sgd_preds))\n",
        "\n",
        "print(\"=== PassiveAggressiveClassifier ===\")\n",
        "print(\"Accuracy:\", accuracy_score(y_test, pa_preds))\n",
        "print(classification_report(y_test, pa_preds))\n",
        "\n",
        "print(\"=== MultinomialNB ===\")\n",
        "print(\"Accuracy:\", accuracy_score(y_test, nb_preds))\n",
        "print(classification_report(y_test, nb_preds))\n"
      ]
    },
    {
      "cell_type": "code",
      "execution_count": null,
      "metadata": {
        "id": "sf67RtAJMv_-"
      },
      "outputs": [],
      "source": [
        "import joblib\n",
        "\n",
        "# Save the model\n",
        "joblib.dump(sgd_clf, 'sentiment_model.pkl')\n",
        "joblib.dump(tfidf_vectorizer, 'tfidf_vectorizer.pkl')\n"
      ]
    },
    {
      "cell_type": "code",
      "execution_count": null,
      "metadata": {
        "id": "W0ri2wWyMv_-",
        "outputId": "6ac36234-422e-483c-b42f-9c5891fe4c6e"
      },
      "outputs": [
        {
          "name": "stdout",
          "output_type": "stream",
          "text": [
            "Predicted Sentiment: Positive\n"
          ]
        }
      ],
      "source": [
        "import joblib\n",
        "\n",
        "# Load the saved model and vectorizer\n",
        "model = joblib.load('sentiment_model.pkl')\n",
        "vectorizer = joblib.load('tfidf_vectorizer.pkl')\n",
        "\n",
        "def predict_sentiment(text):\n",
        "    # Transform the input text using the TF-IDF vectorizer\n",
        "    X_input = vectorizer.transform([text])\n",
        "    # Predict the sentiment\n",
        "    prediction = model.predict(X_input)[0]\n",
        "    return prediction\n",
        "\n",
        "# Test the inference function\n",
        "sample_text = \"i love it\"\n",
        "print(\"Predicted Sentiment:\", predict_sentiment(sample_text))\n"
      ]
    },
    {
      "cell_type": "code",
      "execution_count": null,
      "metadata": {
        "id": "uksyJmp3Mv_-"
      },
      "outputs": [],
      "source": []
    },
    {
      "cell_type": "code",
      "execution_count": null,
      "metadata": {
        "id": "2Mvw3x0yMv_-",
        "outputId": "5a893bd0-95e3-4b42-ee85-7cb6a74b4564"
      },
      "outputs": [
        {
          "name": "stdout",
          "output_type": "stream",
          "text": [
            "Saved data_chunks/chunk_1.csv\n",
            "Saved data_chunks/chunk_2.csv\n",
            "Saved data_chunks/chunk_3.csv\n",
            "Saved data_chunks/chunk_4.csv\n",
            "Saved data_chunks/chunk_5.csv\n",
            "Saved data_chunks/chunk_6.csv\n",
            "Saved data_chunks/chunk_7.csv\n",
            "Saved data_chunks/chunk_8.csv\n",
            "Saved data_chunks/chunk_9.csv\n",
            "Saved data_chunks/chunk_10.csv\n",
            "Saved data_chunks/chunk_11.csv\n",
            "Saved data_chunks/chunk_12.csv\n",
            "Saved data_chunks/chunk_13.csv\n",
            "Saved data_chunks/chunk_14.csv\n",
            "Saved data_chunks/chunk_15.csv\n",
            "Saved data_chunks/chunk_16.csv\n",
            "Saved data_chunks/chunk_17.csv\n",
            "Saved data_chunks/chunk_18.csv\n",
            "Saved data_chunks/chunk_19.csv\n",
            "Saved data_chunks/chunk_20.csv\n",
            "Saved data_chunks/chunk_21.csv\n",
            "Saved data_chunks/chunk_22.csv\n",
            "Saved data_chunks/chunk_23.csv\n",
            "Saved data_chunks/chunk_24.csv\n",
            "Saved data_chunks/chunk_25.csv\n",
            "Saved data_chunks/chunk_26.csv\n",
            "Saved data_chunks/chunk_27.csv\n",
            "Saved data_chunks/chunk_28.csv\n",
            "Saved data_chunks/chunk_29.csv\n",
            "Saved data_chunks/chunk_30.csv\n",
            "Saved data_chunks/chunk_31.csv\n",
            "Saved data_chunks/chunk_32.csv\n",
            "Saved data_chunks/chunk_33.csv\n",
            "Saved data_chunks/chunk_34.csv\n",
            "Saved data_chunks/chunk_35.csv\n",
            "Saved data_chunks/chunk_36.csv\n",
            "Saved data_chunks/chunk_37.csv\n"
          ]
        }
      ],
      "source": [
        "import pandas as pd\n",
        "import os\n",
        "\n",
        "# Specify the path to your large CSV file\n",
        "input_file = \"/Users/mac/SENTIMENT ANALYSIS PROJECT/train_dataset_updated\"\n",
        "\n",
        "# Create an output directory to store the chunks\n",
        "output_dir = \"data_chunks\"\n",
        "os.makedirs(output_dir, exist_ok=True)\n",
        "\n",
        "# Define the number of rows per chunk (adjust as needed)\n",
        "chunksize = 100000\n",
        "\n",
        "# Read the CSV file in chunks and save each chunk to a separate CSV\n",
        "for i, chunk in enumerate(pd.read_csv(input_file, chunksize=chunksize)):\n",
        "    output_file = os.path.join(output_dir, f\"chunk_{i+1}.csv\")\n",
        "    chunk.to_csv(output_file, index=False)\n",
        "    print(f\"Saved {output_file}\")\n"
      ]
    },
    {
      "cell_type": "code",
      "execution_count": null,
      "metadata": {
        "id": "G0hA7lHTMv__"
      },
      "outputs": [],
      "source": [
        "cache_file_name=\"cache/tokenized_dataset.arrow\"\n"
      ]
    },
    {
      "cell_type": "code",
      "execution_count": null,
      "metadata": {
        "id": "MPsLMR0rMv__",
        "outputId": "8a68518a-1daa-4fc1-da6a-5b11c44d27f1",
        "colab": {
          "referenced_widgets": [
            "d5110ac8500e4cb4b8dff8e7e3c05fdb",
            "89228c6546f540d5911b215a96c905b3"
          ]
        }
      },
      "outputs": [
        {
          "name": "stderr",
          "output_type": "stream",
          "text": [
            "2025-02-21 16:04:19.765302: I tensorflow/core/platform/cpu_feature_guard.cc:210] This TensorFlow binary is optimized to use available CPU instructions in performance-critical operations.\n",
            "To enable the following instructions: AVX2 FMA, in other operations, rebuild TensorFlow with the appropriate compiler flags.\n"
          ]
        },
        {
          "name": "stdout",
          "output_type": "stream",
          "text": [
            "Found 37 chunk files.\n"
          ]
        },
        {
          "name": "stderr",
          "output_type": "stream",
          "text": [
            "Some weights of BertForSequenceClassification were not initialized from the model checkpoint at bert-base-uncased and are newly initialized: ['classifier.bias', 'classifier.weight']\n",
            "You should probably TRAIN this model on a down-stream task to be able to use it for predictions and inference.\n",
            "/opt/anaconda3/lib/python3.12/site-packages/transformers/training_args.py:1594: FutureWarning: `evaluation_strategy` is deprecated and will be removed in version 4.46 of 🤗 Transformers. Use `eval_strategy` instead\n",
            "  warnings.warn(\n"
          ]
        },
        {
          "name": "stdout",
          "output_type": "stream",
          "text": [
            "\n",
            "--- Processing chunk 1/37: data_chunks/chunk_1.csv ---\n"
          ]
        },
        {
          "data": {
            "application/vnd.jupyter.widget-view+json": {
              "model_id": "d5110ac8500e4cb4b8dff8e7e3c05fdb",
              "version_major": 2,
              "version_minor": 0
            },
            "text/plain": [
              "Map:   0%|          | 0/100000 [00:00<?, ? examples/s]"
            ]
          },
          "metadata": {},
          "output_type": "display_data"
        },
        {
          "data": {
            "application/vnd.jupyter.widget-view+json": {
              "model_id": "89228c6546f540d5911b215a96c905b3",
              "version_major": 2,
              "version_minor": 0
            },
            "text/plain": [
              "Map:   0%|          | 0/100000 [00:00<?, ? examples/s]"
            ]
          },
          "metadata": {},
          "output_type": "display_data"
        },
        {
          "name": "stdout",
          "output_type": "stream",
          "text": [
            "Starting training on current chunk...\n"
          ]
        },
        {
          "data": {
            "text/html": [
              "\n",
              "    <div>\n",
              "      \n",
              "      <progress value='53' max='6250' style='width:300px; height:20px; vertical-align: middle;'></progress>\n",
              "      [  53/6250 1:37:45 < 197:58:53, 0.01 it/s, Epoch 0.01/1]\n",
              "    </div>\n",
              "    <table border=\"1\" class=\"dataframe\">\n",
              "  <thead>\n",
              " <tr style=\"text-align: left;\">\n",
              "      <th>Step</th>\n",
              "      <th>Training Loss</th>\n",
              "    </tr>\n",
              "  </thead>\n",
              "  <tbody>\n",
              "  </tbody>\n",
              "</table><p>"
            ],
            "text/plain": [
              "<IPython.core.display.HTML object>"
            ]
          },
          "metadata": {},
          "output_type": "display_data"
        }
      ],
      "source": [
        "import os\n",
        "from datasets import load_dataset\n",
        "from transformers import BertTokenizer, BertForSequenceClassification, Trainer, TrainingArguments\n",
        "import torch\n",
        "\n",
        "# Path to your folder containing chunk CSV files\n",
        "chunk_dir = \"data_chunks\"\n",
        "chunk_files = sorted([os.path.join(chunk_dir, f) for f in os.listdir(chunk_dir) if f.endswith(\".csv\")])\n",
        "print(f\"Found {len(chunk_files)} chunk files.\")\n",
        "\n",
        "# Load base model and tokenizer once\n",
        "model_name = \"bert-base-uncased\"\n",
        "tokenizer = BertTokenizer.from_pretrained(model_name)\n",
        "model = BertForSequenceClassification.from_pretrained(model_name, num_labels=2)\n",
        "\n",
        "# Set training parameters\n",
        "use_fp16 = torch.cuda.is_available()\n",
        "training_args = TrainingArguments(\n",
        "    output_dir=\"./results\",\n",
        "    num_train_epochs=1,\n",
        "    per_device_train_batch_size=16,\n",
        "    evaluation_strategy=\"no\",\n",
        "    save_strategy=\"no\",\n",
        "    logging_steps=100,\n",
        "    fp16=use_fp16,\n",
        ")\n",
        "\n",
        "# Define functions outside the loop to avoid redefinition overhead\n",
        "def map_labels(example):\n",
        "    # Assuming CSV column 'labels' contains \"Positive\" or \"Negative\"\n",
        "    example[\"label\"] = 1 if example[\"labels\"].strip().lower() == \"positive\" else 0\n",
        "    return example\n",
        "\n",
        "def tokenize_function(examples):\n",
        "    return tokenizer(examples[\"text\"], padding=\"max_length\", truncation=True, max_length=128)\n",
        "\n",
        "# Loop over each chunk file for incremental training\n",
        "for i, chunk_file in enumerate(chunk_files, start=1):\n",
        "    print(f\"\\n--- Processing chunk {i}/{len(chunk_files)}: {chunk_file} ---\")\n",
        "\n",
        "    # Load current chunk using Hugging Face datasets\n",
        "    dataset = load_dataset(\"csv\", data_files={\"train\": chunk_file})[\"train\"]\n",
        "\n",
        "    # Map string labels to integers\n",
        "    dataset = dataset.map(map_labels)\n",
        "\n",
        "    # Tokenize the dataset in batches\n",
        "    tokenized_dataset = dataset.map(tokenize_function, batched=True)\n",
        "    tokenized_dataset.set_format(type=\"torch\", columns=[\"input_ids\", \"attention_mask\", \"label\"])\n",
        "\n",
        "    # Create Trainer and train on the current chunk\n",
        "    trainer = Trainer(\n",
        "        model=model,\n",
        "        args=training_args,\n",
        "        train_dataset=tokenized_dataset,\n",
        "    )\n",
        "\n",
        "    print(\"Starting training on current chunk...\")\n",
        "    trainer.train()\n",
        "    print(\"Finished training on current chunk.\")\n",
        "\n",
        "    # Save a checkpoint after training on the current chunk\n",
        "    ckpt_dir = os.path.join(\"checkpoints\", f\"chunk_{i}_checkpoint\")\n",
        "    os.makedirs(ckpt_dir, exist_ok=True)\n",
        "    model.save_pretrained(ckpt_dir)\n",
        "    tokenizer.save_pretrained(ckpt_dir)\n",
        "    print(f\"Checkpoint saved to {ckpt_dir}\")\n",
        "\n",
        "    # Clean up memory to reduce risk of kernel crashes\n",
        "    del dataset, tokenized_dataset, trainer\n",
        "    if torch.cuda.is_available():\n",
        "        torch.cuda.empty_cache()\n",
        "\n",
        "print(\"\\nIncremental training on all chunks is complete.\")\n"
      ]
    },
    {
      "cell_type": "code",
      "execution_count": null,
      "metadata": {
        "id": "Qw4B7YQNMwAA"
      },
      "outputs": [],
      "source": [
        "train_data_updated = '/Users/mac/SENTIMENT ANALYSIS PROJECT/train_dataset_updated'\n",
        "train_df_updated = pd.read_csv(train_data_updated)"
      ]
    }
  ],
  "metadata": {
    "kernelspec": {
      "display_name": "Python 3.12.4 ('base')",
      "language": "python",
      "name": "python3"
    },
    "language_info": {
      "codemirror_mode": {
        "name": "ipython",
        "version": 3
      },
      "file_extension": ".py",
      "mimetype": "text/x-python",
      "name": "python",
      "nbconvert_exporter": "python",
      "pygments_lexer": "ipython3",
      "version": "3.12.4"
    },
    "orig_nbformat": 4,
    "vscode": {
      "interpreter": {
        "hash": "40d3a090f54c6569ab1632332b64b2c03c39dcf918b08424e98f38b5ae0af88f"
      }
    },
    "colab": {
      "provenance": []
    }
  },
  "nbformat": 4,
  "nbformat_minor": 0
}